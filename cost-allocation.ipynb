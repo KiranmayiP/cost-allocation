{
 "cells": [
  {
   "cell_type": "markdown",
   "metadata": {},
   "source": [
    "# Game Theory Project"
   ]
  },
  {
   "cell_type": "raw",
   "metadata": {},
   "source": [
    "This is our implementation of Raga's Theorem 7.1 - which takes\n",
    "a list of passengers and their destination, and designs a specific graph\n",
    "who's max flow min cost reduction is isomorphic to the best route to take"
   ]
  },
  {
   "cell_type": "markdown",
   "metadata": {},
   "source": [
    "### Backend Logic Code:"
   ]
  },
  {
   "cell_type": "code",
   "execution_count": 28,
   "metadata": {
    "collapsed": false
   },
   "outputs": [],
   "source": [
    "__author__ = \"Arya\"\n",
    "import networkx as nx # Graph Library\n",
    "import matplotlib.pyplot as plt\n",
    "from matplotlib.colors import cnames\n",
    "from itertools import cycle\n",
    "import numpy as np\n",
    "import pulp\n",
    "import random\n",
    "#from IPython.display import Image\n",
    "%matplotlib inline"
   ]
  },
  {
   "cell_type": "code",
   "execution_count": 2,
   "metadata": {
    "collapsed": false
   },
   "outputs": [],
   "source": [
    "def new_round(num, digits):\n",
    "    '''\n",
    "    Because nx.nextwork_simplex doesnt work for \n",
    "    floats, this function just multiplies num\n",
    "    by digits and turns in into an integer\n",
    "    '''\n",
    "    return int(num*(10**digits))\n",
    "\n",
    "def node_numbers(node):\n",
    "    '''\n",
    "    Numbers the nodes, to allow for sorting\n",
    "    '''\n",
    "    \n",
    "    if node[0]=='source': return 0\n",
    "    if node[0]=='sink': return 1\n",
    "    if node[0]=='destination': return float('inf')\n",
    "    else:\n",
    "        if node[0][0]==\"d\": print node\n",
    "        cost= 2+2*int(node[0][0])\n",
    "        if node[0][1:]=='out': cost+=1\n",
    "        return cost\n",
    "\n",
    "def sort_nodes(nodes):\n",
    "    '''Sorts a list of nodes'''\n",
    "    return sorted(nodes,key=node_numbers)\n",
    "\n",
    "def sort_edges(edges):\n",
    "    '''sorts a list of edges'''\n",
    "    return sorted(edges, key = lambda x:node_numbers([x[0]]))"
   ]
  },
  {
   "cell_type": "markdown",
   "metadata": {},
   "source": [
    "### Basic functions integral to the construction"
   ]
  },
  {
   "cell_type": "code",
   "execution_count": 3,
   "metadata": {
    "collapsed": false
   },
   "outputs": [],
   "source": [
    "from math import sqrt\n",
    "def distance(node1,node2):\n",
    "    '''Simple euclidian distance formula between two points'''\n",
    "    x1 = node1[0]\n",
    "    x2 = node2[0]\n",
    "    y1 = node1[1]\n",
    "    y2 = node2[1]\n",
    "    return sqrt((x2-x1)**2 + (y2-y1)**2)\n",
    "\n",
    "def max_distance(points):\n",
    "    '''Gets the maximum distance between two points in the graph'''\n",
    "    current = 0\n",
    "    for node1 in points:\n",
    "        for node2 in points:\n",
    "            d = distance(node1,node2) # Find the distance between the two nodes\n",
    "            if d>current: #if it's a greater distance, store that distance as the greatest\n",
    "                current=d\n",
    "    return current\n",
    "\n",
    "def cost_of_min_flow(G):\n",
    "    '''Given a graph, it gives the cost of the paths in the max flow min cost over the graph'''\n",
    "    flow_path = nx.max_flow_min_cost(G,'source','sink',weight='cost')# Gets the flow path from source to sink\n",
    "    beginning = flow_path['source'] # The beginning has the directions for where each cab starts\n",
    "    \n",
    "    total_cost = 0\n",
    "    start_paths = [n[0] for n in beginning.items() if n[1]==1] # each node which the flow_path indicates to go\n",
    "    paths = []\n",
    "    for start_node in start_paths: # For each node that a cab goes to in order to start\n",
    "        path = [start_node]\n",
    "        curr_node=start_node\n",
    "        path_cost = 0\n",
    "        while curr_node!='destination': # Loop through the path until you reach the destination\n",
    "            next_node = [n for n in flow_path[curr_node].items() if n[1]==1][0][0] # each node the current node travels to\n",
    "            path_cost += G.edge[curr_node][next_node]['cost'] # Add the cost of the edge from the current node to the next node\n",
    "            curr_node = next_node # Switch current node to be the node travelled to\n",
    "            if G.node[curr_node]['type']=='passenger in': path.append(curr_node)\n",
    "        total_cost += path_cost # When that node is finished, add it to the total cost and start over\n",
    "        paths.append(path+['destination'])\n",
    "    return total_cost, paths  "
   ]
  },
  {
   "cell_type": "markdown",
   "metadata": {},
   "source": [
    "# Main Algorithm\n",
    "\n",
    "In the code I include comments on what part of the \n",
    "paper is being represented by the code\n",
    "\n",
    "1. The algorithm takes a list of passengers (x,y position tuples), and a destination (x,y) tuple. Passengers are listed in  pickup order\n",
    "\n",
    "2. From that, it creates a source node, a sink node, a destination node, and two nodes for every passenger (an in and an out node)\n",
    "\n",
    "3. For each passenger it adds an edge from its in node to its out node (cost 0, capacity 1)\n",
    "\n",
    "4. Add an edge from the source to every in node (cost 0, capacity 1)\n",
    "\n",
    "5. Calculate a value L, which is larger than the maximum distance between two points multiplied by the number of passengers.\n",
    "\n",
    "6. Create an edge from each out node to the destination with the cost being the distance between the passenger and the destination\n",
    "\n",
    "7. Add an edge from each out/in pair (where the index of the out is less than the index of the in) where the cost is the distance between the two passengers minus L."
   ]
  },
  {
   "cell_type": "code",
   "execution_count": 4,
   "metadata": {
    "collapsed": false
   },
   "outputs": [],
   "source": [
    "def generate_graph(passengers, destination, annotate=False, complete=False):\n",
    "    '''\n",
    "    This code generates the graph described by Raga in section 7.3 steps 1 through 5\n",
    "    The code is annotated with what it is doing in comments\n",
    "    passengers = List of x,y coordinates for each passenger\n",
    "    destination = x,y tuple with coord. of destination\n",
    "    annotate=True if you want print statements\n",
    "    complete=True if you want to do unordered paths\n",
    "    \n",
    "    '''\n",
    "    \n",
    "    G=nx.DiGraph() # Create a directed graph\n",
    "    \n",
    "    # The rest of the algorithm closely follows Raga's paper - I quote the steps directly\n",
    "    \n",
    "    # Step 1\n",
    "    # \"s and t denote the source and sink vertices, respectively\"\n",
    "    G.add_node(\"source\", type=\"meta\")\n",
    "    G.add_node(\"sink\", type=\"meta\")\n",
    "    \n",
    "    # Step 2\n",
    "    # For each passenger/pickup location u ∈ N , we create two vertices and an edge: an\n",
    "    # entry vertex u_in, an exit vertex u_out, and an edge of cost 0 and capacity 1 directed\n",
    "    # from u_in to u_out. We also create a vertex n+1 corresponding to the dropoff location.\n",
    "    i = 1\n",
    "    for passenger in passengers:\n",
    "        # {}in.format(x) will give the node the name xin, for any integer x\n",
    "        G.add_node(\"{}in\".format(i), number=i, x=passenger[0], y=passenger[1], type=\"passenger in\")\n",
    "        G.add_node(\"{}out\".format(i),number=i, x=passenger[0], y=passenger[1], type=\"passenger out\")\n",
    "        G.add_edge(\"{}in\".format(i), \"{}out\".format(i), cost=0, capacity=1)\n",
    "        i+=1\n",
    "    G.add_node(\"destination\", x=destination[0], y=destination[1], type=\"destination\")\n",
    "    \n",
    "    # Step 3\n",
    "    # We create n edges, one each of cost 0 and capacity 1 from the source vertex s to each\n",
    "    # of the entry vertices u_in, u ∈ N.\n",
    "    for node in G.nodes(data=True):\n",
    "        if node[1]['type']==\"passenger in\":\n",
    "            G.add_edge(\"source\", node[0], cost=0, capacity=1)\n",
    "    \n",
    "    # Calculating L\n",
    "    # passengers + [destination] is the concatonation of the two lists\n",
    "    L = len(passengers)*max_distance(passengers + [destination]) + 1 \n",
    "    #L = new_round(L, 2)\n",
    "    \n",
    "    # Step 4\n",
    "    # We create n edges, one each of cost SuD and capacity 1 from each \n",
    "    # of the exit vertices uout, u ∈ N, to the dropoff vertex n + 1\n",
    "    for node in G.nodes(data=True):\n",
    "        if node[1]['type']==\"passenger out\":\n",
    "            cost = distance(destination, (node[1]['x'],node[1]['y']))-L # Calculating SuD\n",
    "            cost = new_round(cost, 2)\n",
    "            node_name = node[0]\n",
    "            G.add_edge(node_name,\"destination\", cost=cost, capacity=1) # Creating the edge with that cost\n",
    "    \n",
    "    # Step 5\n",
    "    # To encode the pickup order, for each 1 ≤ u < v ≤ n we create an edge of cost\n",
    "    # (SuSv − L) and capacity 1 directed from u_out to v_in, where L is a sufficiently large\n",
    "    # number satisfying L > 2*max [u,v∈N∪{n+1} SuSv].    \n",
    "    \n",
    "    for u in range(1,len(passengers)+1): # For each u\n",
    "        if complete: # If we want a complete graph we will do every v, otherwise just v>u\n",
    "            start = 1\n",
    "        else: \n",
    "            start = u+1\n",
    "        for v in range(start, len(passengers)+1):\n",
    "            if u!=v:\n",
    "                G.add_edge(\"{}out\".format(u), \"{}in\".format(v), \n",
    "                           cost=new_round(distance(passengers[u-1], passengers[v-1])-L, 2), capacity=1) \n",
    "    if annotate: print \"L = {}\".format(L)\n",
    "    return allocation(G, annotate=annotate) # pass this graph to step 6"
   ]
  },
  {
   "cell_type": "markdown",
   "metadata": {},
   "source": [
    "### Step 6:\n",
    "Finally, it creates a separate graph for each of n passengers, with each one having\n",
    "an edge from destination to sink with cost 0 and capacity m' (for each value m'\n",
    "from 1 to n).\n",
    "\n",
    "After the graphs are generated, it iterates over each graph, and finds the cost\n",
    "of going through the max flow min cost reduction of the graph, and it returns\n",
    "the graph which gives the costs"
   ]
  },
  {
   "cell_type": "code",
   "execution_count": 5,
   "metadata": {
    "collapsed": false
   },
   "outputs": [],
   "source": [
    "def allocation(G, annotate=False):\n",
    "    '''\n",
    "    Given the G in the generate_graph algo, it gives the graph with\n",
    "    a node from destination to source m' with the minimum cost\n",
    "    for traversing the max flow min cost graph.\n",
    "    annotate=True if you want print statements\n",
    "    '''        \n",
    "    # Step 6\n",
    "    # We add a final edge of cost 0 and capacity m′ from the dropoff vertex n + 1 to the\n",
    "    # sink vertex t, thereby limiting the maximum flow in the network to m′ units.\n",
    "    \n",
    "    # In this implementation, we make n copies of this graph, and give each one an m' from i to n\n",
    "    passengers = [node for node in G.nodes(data=True) if node[1]['type']=='passenger in']\n",
    "    possible_graphs = [G.copy() for i in range(len(passengers))]\n",
    "    \n",
    "    for i, pg in enumerate(possible_graphs, 1):        \n",
    "        pg.add_edge(\"destination\", \"sink\", cost=0, capacity=i) # All the different m' values\n",
    "    \n",
    "    # Now over these graphs we have to find the one with the lowest cost in the min cost max flow algorithm\n",
    "    # Aka which m' gives the lowest cost\n",
    "    min_cost = float('inf')\n",
    "    min_flow_graph = None\n",
    "    costs = []\n",
    "    paths = []\n",
    "    optimal = 0\n",
    "    \n",
    "    for index, pg in enumerate(possible_graphs):\n",
    "        if annotate: print \"{} cabs: \".format(index+1),\n",
    "        # For each possible graph, calculate the cost. If the cost is less than previous graphs, store it\n",
    "        c, path = cost_of_min_flow(pg)\n",
    "        c = new_round(c,2)\n",
    "        paths.append(path)\n",
    "        costs.append(c)\n",
    "        if annotate:\n",
    "            print \"path: \",path,\"--\",\n",
    "            print \"cost: \",c\n",
    "        if c<min_cost:\n",
    "            min_cost=c\n",
    "            min_flow_graph=pg\n",
    "            optimal = index\n",
    "    if annotate: print \"Optimal path with {} cabs\".format(optimal+1), paths[optimal]\n",
    "    return min_flow_graph,paths[optimal]"
   ]
  },
  {
   "cell_type": "code",
   "execution_count": 95,
   "metadata": {
    "collapsed": false
   },
   "outputs": [],
   "source": [
    "def allocation_interractive():\n",
    "    '''\n",
    "    Interractive version of the function\n",
    "    '''\n",
    "    players = int(raw_input(\"How many players are there: \"))\n",
    "    player_coordinates = []\n",
    "    for i in range(1,players+1):\n",
    "        coord = raw_input(\"What are the x and y coordinates for player {}: \".format(i))\n",
    "        coord = [int(x) for x in coord.split()]\n",
    "        player_coordinates.append((coord[0],coord[1]))\n",
    "    destination = raw_input(\"What are the x and y coordinates for the destination: \")\n",
    "    destination = [int(x) for x in destination.split()]\n",
    "    return (generate_graph(player_coordinates, (destination[0], destination[1])))\n",
    "\n",
    "def draw_paths(G, paths=None, title=\"Graph of optimal routes\"):\n",
    "    '''\n",
    "    Given a graph and paths through the graph, it plots them w/ arrows\n",
    "    If path not given, it gets the path with min cost max flow\n",
    "    '''\n",
    "    if paths == None:\n",
    "        paths = cost_of_min_flow(G)[1]\n",
    "    \n",
    "    # Way of getting random colors\n",
    "    color_names = list(\"gbrcmyk\")\n",
    "    new_colors=[]\n",
    "    if len(paths) > len(color_names):\n",
    "        new_colors = [c for c in cnames.keys() if not(\"light\" in c)]\n",
    "        random.shuffle(new_colors)\n",
    "    colors = cycle(color_names+new_colors) #iterator through colors (so it will repeat)\n",
    "    \n",
    "    # plot labels\n",
    "    plt.xlabel(\"X\")\n",
    "    plt.ylabel(\"Y\") \n",
    "    plt.title(title+\" - {} cabs\".format(len(paths)))\n",
    "    \n",
    "    # add all the x,y points of the passengers\n",
    "    xs = []\n",
    "    ys = []\n",
    "    for n in G.nodes(data=True):\n",
    "        if n[1]['type'] == 'passenger in':\n",
    "            xs.append(n[1]['x'])\n",
    "            ys.append(n[1]['y'])\n",
    "    plt.plot(xs,ys,'ro')\n",
    "    \n",
    "    # plot the destination\n",
    "    destination = G.node['destination']\n",
    "    plt.plot(destination['x'], destination['y'], 'bo')\n",
    "    xs.append(destination['x'])\n",
    "    ys.append(destination['y'])\n",
    "    \n",
    "    # determine the axis\n",
    "    plt.axis([min(xs)-1,max(xs)+1,min(ys)-1,max(ys)+1])\n",
    "    \n",
    "    for path in paths: # for each path\n",
    "        c = colors.next() # choose a random color\n",
    "        for i in range(len(path)-1): # for each pair in the path\n",
    "            from_node = G.node[path[i]] \n",
    "            to_node = G.node[path[i+1]]\n",
    "            try:\n",
    "                # draw an arrow from from_node to to_node\n",
    "                plt.arrow(from_node['x'], from_node['y'], (to_node['x']-from_node['x']),  \n",
    "                      (to_node['y']-from_node['y']), head_width=0.2, head_length=0.05, \n",
    "                      length_includes_head=True,fc=c, ec=c)\n",
    "            except: # if error is thrown, it means that the point was repeated\n",
    "                continue\n",
    "    \n",
    "    plt.show()"
   ]
  },
  {
   "cell_type": "markdown",
   "metadata": {},
   "source": [
    "Running the cell below allows you to interractively give the program a set of passengers and a destination. For example, try the simple case - two passengers at (0,0) and (1,0) - destination (2,0)"
   ]
  },
  {
   "cell_type": "code",
   "execution_count": 128,
   "metadata": {
    "collapsed": false
   },
   "outputs": [
    {
     "name": "stdout",
     "output_type": "stream",
     "text": [
      "How many players are there: 2\n",
      "What are the x and y coordinates for player 1: 0 0\n",
      "What are the x and y coordinates for player 2: 0 1\n",
      "What are the x and y coordinates for the destination: 0 2\n"
     ]
    },
    {
     "data": {
      "image/png": "[encoded data removed]",
      "text/plain": [
       "<matplotlib.figure.Figure at 0xa8a4ecf0>"
      ]
     },
     "metadata": {},
     "output_type": "display_data"
    }
   ],
   "source": [
    "# This example creates a graph where the players are at positions (1,1), (-1,1), (-1,-1), (1,-1) and destination (0,0)\n",
    "\n",
    "#G = allocation_interractive()\n",
    "passengers = [(0,0), (1,0)]\n",
    "destination = (2,0)\n",
    "#a, paths = generate_graph(passengers, destination)\n",
    "a, paths = allocation_interractive()\n",
    "draw_paths(a,paths)\n"
   ]
  },
  {
   "cell_type": "markdown",
   "metadata": {},
   "source": [
    "#### List of all the nodes"
   ]
  },
  {
   "cell_type": "code",
   "execution_count": 129,
   "metadata": {
    "collapsed": false
   },
   "outputs": [
    {
     "data": {
      "text/plain": [
       "[('source', {'type': 'meta'}),\n",
       " ('sink', {'type': 'meta'}),\n",
       " ('1in', {'number': 1, 'type': 'passenger in', 'x': 0, 'y': 0}),\n",
       " ('1out', {'number': 1, 'type': 'passenger out', 'x': 0, 'y': 0}),\n",
       " ('2in', {'number': 2, 'type': 'passenger in', 'x': 0, 'y': 1}),\n",
       " ('2out', {'number': 2, 'type': 'passenger out', 'x': 0, 'y': 1}),\n",
       " ('destination', {'type': 'destination', 'x': 0, 'y': 2})]"
      ]
     },
     "execution_count": 129,
     "metadata": {},
     "output_type": "execute_result"
    }
   ],
   "source": [
    "sort_nodes(a.nodes(data=True))"
   ]
  },
  {
   "cell_type": "markdown",
   "metadata": {},
   "source": [
    "#### List of all the edges"
   ]
  },
  {
   "cell_type": "code",
   "execution_count": 130,
   "metadata": {
    "collapsed": false
   },
   "outputs": [
    {
     "data": {
      "text/plain": [
       "[('source', '2in', {'capacity': 1, 'cost': 0}),\n",
       " ('source', '1in', {'capacity': 1, 'cost': 0}),\n",
       " ('1in', '1out', {'capacity': 1, 'cost': 0}),\n",
       " ('1out', '2in', {'capacity': 1, 'cost': -400}),\n",
       " ('1out', 'destination', {'capacity': 1, 'cost': -300}),\n",
       " ('2in', '2out', {'capacity': 1, 'cost': 0}),\n",
       " ('2out', 'destination', {'capacity': 1, 'cost': -400}),\n",
       " ('destination', 'sink', {'capacity': 1, 'cost': 0})]"
      ]
     },
     "execution_count": 130,
     "metadata": {},
     "output_type": "execute_result"
    }
   ],
   "source": [
    "# All the edges in the graph\n",
    "sort_edges(a.edges(data=True))"
   ]
  },
  {
   "cell_type": "markdown",
   "metadata": {},
   "source": [
    "#### Drawing of the constructed graph\n",
    "This gets quite complicated with large number of players"
   ]
  },
  {
   "cell_type": "code",
   "execution_count": 131,
   "metadata": {
    "collapsed": false
   },
   "outputs": [
    {
     "data": {
      "image/png": "[encoded data removed]",
      "text/plain": [
       "<matplotlib.figure.Figure at 0xa8d6f890>"
      ]
     },
     "metadata": {},
     "output_type": "display_data"
    }
   ],
   "source": [
    "nx.draw(a, with_labels=True)"
   ]
  },
  {
   "cell_type": "code",
   "execution_count": 132,
   "metadata": {
    "collapsed": false
   },
   "outputs": [
    {
     "data": {
      "text/plain": [
       "{'1in': {'1out': 1},\n",
       " '1out': {'2in': 1, 'destination': 0},\n",
       " '2in': {'2out': 1},\n",
       " '2out': {'destination': 1},\n",
       " 'destination': {'sink': 1},\n",
       " 'sink': {},\n",
       " 'source': {'1in': 1, '2in': 0}}"
      ]
     },
     "execution_count": 132,
     "metadata": {},
     "output_type": "execute_result"
    }
   ],
   "source": [
    "# The path that should be taken\n",
    "# Starting from the source, a 1 in the node in the dictionary means send 1 cab there\n",
    "nx.max_flow_min_cost(a,'source','sink',weight='cost')"
   ]
  },
  {
   "cell_type": "markdown",
   "metadata": {},
   "source": [
    "## More examples\n"
   ]
  },
  {
   "cell_type": "code",
   "execution_count": 133,
   "metadata": {
    "collapsed": false
   },
   "outputs": [
    {
     "data": {
      "image/png": "[encoded data removed]",
      "text/plain": [
       "<matplotlib.figure.Figure at 0xa96274d0>"
      ]
     },
     "metadata": {},
     "output_type": "display_data"
    }
   ],
   "source": [
    "passengers = [(2,0), (1,0), (0,2), (0,1), (0,-2), (0,-1)]\n",
    "destination = (0,0)\n",
    "a, paths = generate_graph(passengers, destination)\n",
    "draw_paths(a,paths, title=\"Three cabs needed\")"
   ]
  },
  {
   "cell_type": "code",
   "execution_count": 134,
   "metadata": {
    "collapsed": false
   },
   "outputs": [
    {
     "data": {
      "image/png": "[encoded data removed]",
      "text/plain": [
       "<matplotlib.figure.Figure at 0xa8cca7d0>"
      ]
     },
     "metadata": {},
     "output_type": "display_data"
    }
   ],
   "source": [
    "passengers = [(1,1), (-1,1), (-1,-1), (1,-1)]\n",
    "destination = (0,0)\n",
    "a, paths = generate_graph(passengers, destination)\n",
    "draw_paths(a,paths, title=\"Points in Square\")"
   ]
  },
  {
   "cell_type": "code",
   "execution_count": 135,
   "metadata": {
    "collapsed": false
   },
   "outputs": [
    {
     "data": {
      "image/png": "[encoded data removed]",
      "text/plain": [
       "<matplotlib.figure.Figure at 0xaaa0f210>"
      ]
     },
     "metadata": {},
     "output_type": "display_data"
    }
   ],
   "source": [
    "passengers = [(2,2), (1,1), (1,0), (1,-1), (3,1), (3,0), (3,-1)]\n",
    "destination = (2,-2)\n",
    "a, paths = generate_graph(passengers, destination)\n",
    "draw_paths(a,paths, title=\"Points in hexagon\")"
   ]
  },
  {
   "cell_type": "code",
   "execution_count": 136,
   "metadata": {
    "collapsed": false
   },
   "outputs": [
    {
     "data": {
      "image/png": "[encoded data removed]",
      "text/plain": [
       "<matplotlib.figure.Figure at 0xa95ccd50>"
      ]
     },
     "metadata": {},
     "output_type": "display_data"
    }
   ],
   "source": [
    "passengers = [(2,2), (1,1), (1,0), (1,-1), (3,1), (3,0), (3,-1)]\n",
    "destination = (2,0)\n",
    "a, paths = generate_graph(passengers, destination)\n",
    "draw_paths(a,paths, title=\"hexagon with destination in middle\")"
   ]
  },
  {
   "cell_type": "code",
   "execution_count": 139,
   "metadata": {
    "collapsed": false
   },
   "outputs": [
    {
     "data": {
      "image/png": "[encoded data removed]",
      "text/plain": [
       "<matplotlib.figure.Figure at 0xaab38130>"
      ]
     },
     "metadata": {},
     "output_type": "display_data"
    }
   ],
   "source": [
    "passengers = [(random.randint(-30,30), random.randint(-30,30)) for i in range(30)]\n",
    "destination = (0,0)\n",
    "#passengers = sorted(passengers, key = lambda x : distance(x, destination), reverse=True)\n",
    "a, paths = generate_graph(passengers, destination)\n",
    "draw_paths(a,paths, title=\"Completely random graph\")"
   ]
  },
  {
   "cell_type": "code",
   "execution_count": 143,
   "metadata": {
    "collapsed": false
   },
   "outputs": [
    {
     "data": {
      "image/png": "[encoded data removed]",
      "text/plain": [
       "<matplotlib.figure.Figure at 0xa98c8cd0>"
      ]
     },
     "metadata": {},
     "output_type": "display_data"
    }
   ],
   "source": [
    "passengers = sorted(passengers, key = lambda x : distance(x, destination), reverse=True)\n",
    "a, paths = generate_graph(passengers, destination)\n",
    "draw_paths(a,paths, title=\"Same random graph with sorted passengers\")"
   ]
  },
  {
   "cell_type": "markdown",
   "metadata": {
    "collapsed": false
   },
   "source": [
    "We tried to make progress in calculating costs, but it was not SIR compliant"
   ]
  },
  {
   "cell_type": "code",
   "execution_count": 12,
   "metadata": {
    "collapsed": true
   },
   "outputs": [],
   "source": [
    "def operational_cost(G, route, meter_fare = 8):\n",
    "    oc = 0\n",
    "    oc_values = []\n",
    "    players_on_route = 1\n",
    "    for i in range(len(route)-1):\n",
    "        first = G.node[route[i]]\n",
    "        second = G.node[route[i+1]]\n",
    "        oc += meter_fare*(distance( (first['x'], first['y']), (second['x'], second['y']) ) / float(players_on_route) )\n",
    "        oc_values.append((distance( (first['x'], first['y']), (second['x'], second['y']) ) / float(players_on_route) ))\n",
    "        players_on_route +=1\n",
    "    return oc\n",
    "    \n",
    "def shared_cost_per_player(G, route, meter_fare=8):\n",
    "    operational_costs = []\n",
    "    inconvenience_costs = [0]\n",
    "    for i in range(len(route)-1):\n",
    "        operational_costs.append(operational_cost(G, route[i:], meter_fare)) \n",
    "    \n",
    "    #IC(i) is the inconvenience cost caused due to player(i) to other players\n",
    "    for i in range(1,len(route)-1):\n",
    "        #import pdb;pdb.set_trace()\n",
    "        first = G.node[route[i-1]]\n",
    "        second = G.node[route[i]]\n",
    "        destination = G.node[\"destination\"]\n",
    "        new_distance = (distance( (first['x'], first['y']), (second['x'], second['y']) )+\n",
    "                             distance( (second['x'], second['y']), \n",
    "                                      (destination['x'], destination['y']) ))\n",
    "        original_distance = distance( (first['x'], first['y']), (destination['x'], destination['y']) )\n",
    "        \n",
    "        inconvenience_costs.append((new_distance-original_distance)*meter_fare)\n",
    "    \n",
    "    total_cost = []\n",
    "    for i in range(len(route)-1):\n",
    "        total_cost.append(operational_costs[i]+i*inconvenience_costs[i])\n",
    "    \n",
    "    #print operational_costs\n",
    "    #print inconvenience_costs\n",
    "    return total_cost\n",
    "    \n",
    "def original_cost_per_player(G, meter_fare=8):\n",
    "    costs = []\n",
    "    players = [n for n in G.nodes(data=True) if n[1]['type']=='passenger in']\n",
    "    destination = G.node[\"destination\"]\n",
    "    for player in players:\n",
    "        costs.append(meter_fare*(distance((player[1]['x'], player[1]['y']), \n",
    "                                          (destination['x'], destination['y']) )))\n",
    "    return costs"
   ]
  }
 ],
 "metadata": {
  "kernelspec": {
   "display_name": "Python 2",
   "language": "python",
   "name": "python2"
  },
  "language_info": {
   "codemirror_mode": {
    "name": "ipython",
    "version": 2
   },
   "file_extension": ".py",
   "mimetype": "text/x-python",
   "name": "python",
   "nbconvert_exporter": "python",
   "pygments_lexer": "ipython2",
   "version": "2.7.10"
  }
 },
 "nbformat": 4,
 "nbformat_minor": 0
}
