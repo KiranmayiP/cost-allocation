{
 "cells": [
  {
   "cell_type": "code",
   "execution_count": 3,
   "metadata": {
    "collapsed": true
   },
   "outputs": [],
   "source": [
    "import networkx as nx\n",
    "from datetime import datetime\n",
    "import matplotlib.pyplot as plt\n",
    "import numpy as np\n",
    "from math import sqrt\n",
    "\n",
    "%matplotlib inline"
   ]
  },
  {
   "cell_type": "code",
   "execution_count": 36,
   "metadata": {
    "collapsed": true
   },
   "outputs": [],
   "source": [
    "def distance(node1,node2):\n",
    "    '''Simple distance formula between two points'''\n",
    "    x1 = node1[0]\n",
    "    x2 = node2[0]\n",
    "    y1 = node1[1]\n",
    "    y2 = node2[1]\n",
    "    return sqrt((x2-x2)**2 + (y2-y1)**2)\n",
    "\n",
    "def max_distance(points):\n",
    "    '''Gets the maximum distance between two points in the graph'''\n",
    "    current = 0\n",
    "    for node1 in points:\n",
    "        for node2 in points:\n",
    "            d = distance(node1,node2) # Find the distance between the two nodes\n",
    "            if d>current: # if it's a greater distance, store that distance as the greatest\n",
    "                current=d\n",
    "    return current\n",
    "\n",
    "\n",
    "def cost_of_min_flow(G):\n",
    "    '''Given a graph, it gives the cost of the paths in the max flow min cost over the graph'''\n",
    "    \n",
    "    flow_path = nx.max_flow_min_cost(G,'source','sink',weight='cost') # Gets the flow path from source to sink\n",
    "    beginning = flow_path['source'] # The beginning has the directions for where each cab starts\n",
    "    \n",
    "    total_cost = 0\n",
    "    start_paths = [n[0] for n in beginning.items() if n[1]==1] # each node which the flow_path indicates to go\n",
    "    paths = []\n",
    "    for start_node in start_paths: # For each node that a cab goes to in order to start\n",
    "        path = [start_node]\n",
    "        curr_node=start_node\n",
    "        path_cost = 0\n",
    "        while curr_node!='destination': # Loop through the path until you reach the destination\n",
    "            next_node = [n for n in flow_path[curr_node].items() if n[1]==1][0][0] # each node the current node travels to\n",
    "            path_cost += G.edge[curr_node][next_node]['cost'] # Add the cost of the edge from the current node to the next node\n",
    "            curr_node = next_node # Switch current node to be the node travelled to\n",
    "            path.append(curr_node)\n",
    "        total_cost += path_cost # When that node is finished, add it to the total cost and start over\n",
    "        paths.append(path)\n",
    "    return total_cost, paths    \n",
    "\n",
    "def allocation(passengers, destination, complete=False):\n",
    "    '''\n",
    "    Given a list of passengers and a destination, gives a graph with a minimum cost (iterating over m')\n",
    "    passengers is a list of tuples - ID, x, y\n",
    "    destination is a tuple\n",
    "    complete=True if we want the passenger inputs to not be ordered\n",
    "    '''\n",
    "    G=nx.DiGraph() # Create a directed graph\n",
    "    \n",
    "    # The rest of the algorithm closely follows Raga's paper - I quote the steps directly\n",
    "    \n",
    "    # Step 1\n",
    "    # \"s and t denote the source and sink vertices, respectively\"\n",
    "    G.add_node(\"source\", type=\"meta\")\n",
    "    G.add_node(\"sink\", type=\"meta\")\n",
    "    \n",
    "    # Step 2\n",
    "    # For each passenger/pickup location u ∈ N , we create two vertices and an edge: an\n",
    "    # entry vertex u_in, an exit vertex u_out, and an edge of cost 0 and capacity 1 directed\n",
    "    # from u_in to u_out. We also create a vertex n+1 corresponding to the dropoff location.\n",
    "    i = 1\n",
    "    for passenger in passengers:\n",
    "        # {}in.format(x) will give the node the name xin, for any integer x\n",
    "        G.add_node(\"{}in\".format(i), number=i, x=passenger[0], y=passenger[1], type=\"passenger in\")\n",
    "        G.add_node(\"{}out\".format(i),number=i, x=passenger[0], y=passenger[1], type=\"passenger out\")\n",
    "        G.add_edge(\"{}in\".format(i), \"{}out\".format(i), cost=0, capacity=1)\n",
    "        i+=1\n",
    "    G.add_node(\"destination\", x=destination[0], y=destination[1], type=\"destination\")\n",
    "    \n",
    "    # Step 3\n",
    "    # We create n edges, one each of cost 0 and capacity 1 from the source vertex s to each\n",
    "    # of the entry vertices u_in, u ∈ N.\n",
    "    for node in G.nodes(data=True):\n",
    "        if node[1]['type']==\"passenger in\":\n",
    "            G.add_edge(\"source\", node[0], cost=0, capacity=1)\n",
    "    \n",
    "    # Calculating L\n",
    "    # passengers + [destination] is the concatonation of the two lists\n",
    "    L = len(passengers)*max_distance(passengers + [destination]) + 1 \n",
    "    \n",
    "    \n",
    "    # Step 4\n",
    "    # We create n edges, one each of cost SuD and capacity 1 from each \n",
    "    # of the exit vertices uout, u ∈ N, to the dropoff vertex n + 1\n",
    "    for node in G.nodes(data=True):\n",
    "        if node[1]['type']==\"passenger out\":\n",
    "            cost = distance(destination, (node[1]['x'],node[1]['y'])) # Calculating SuD\n",
    "            node_name = node[0]\n",
    "            G.add_edge(node_name,\"destination\", cost=cost-L, capacity=1) # Creating the edge with that cost\n",
    "    \n",
    "    # Step 5\n",
    "    # To encode the pickup order, for each 1 ≤ u < v ≤ n we create an edge of cost\n",
    "    # (SuSv − L) and capacity 1 directed from u_out to v_in, where L is a sufficiently large\n",
    "    # number satisfying L > 2*max [u,v∈N∪{n+1} SuSv].\n",
    "    \n",
    "    \n",
    "    for u in range(1,len(passengers)+1): # For each u\n",
    "        if complete: # If we want a complete graph we will do every v, otherwise just v>u\n",
    "            start = 1\n",
    "        else: \n",
    "            start = u+1\n",
    "        for v in range(start, len(passengers)+1):\n",
    "            if u!=v:\n",
    "                G.add_edge(\"{}out\".format(u), \"{}in\".format(v), \n",
    "                           cost=distance(passengers[u-1], passengers[v-1])-L, capacity=1) \n",
    "    \n",
    "    \n",
    "    # Step 6\n",
    "    # We add a final edge of cost 0 and capacity m′ from the dropoff vertex n + 1 to the\n",
    "    # sink vertex t, thereby limiting the maximum flow in the network to m′ units.\n",
    "    \n",
    "    # In this implementation, we make n copies of this graph, and give each one an m' from i to n\n",
    "    possible_graphs = [G.copy() for i in range(len(passengers))]\n",
    "    for i, pg in enumerate(possible_graphs):\n",
    "        pg.add_edge(\"destination\", \"sink\", cost=0, capacity=i+1) # All the different m' values\n",
    "    \n",
    "    # Now over these graphs we have to find the one with the lowest cost in the min cost max flow algorithm\n",
    "    # Aka which m' gives the lowest cost\n",
    "    min_cost = float('inf')\n",
    "    min_flow_graph = None\n",
    "    costs = []\n",
    "    paths = []\n",
    "    for pg in possible_graphs:\n",
    "        # For each possible graph, calculate the cost. If the cost is less than previous graphs, store it\n",
    "        c = cost_of_min_flow(pg)[0]\n",
    "        paths.append(cost_of_min_flow(pg)[1])\n",
    "        costs.append(c)\n",
    "        if c<min_cost:\n",
    "            min_cost=c\n",
    "            min_flow_graph=pg\n",
    "    print costs\n",
    "    print paths\n",
    "    return min_flow_graph # return the minimum graph"
   ]
  },
  {
   "cell_type": "code",
   "execution_count": 37,
   "metadata": {
    "collapsed": false
   },
   "outputs": [
    {
     "name": "stdout",
     "output_type": "stream",
     "text": [
      "[-133.0, -134.0, -134.0, -134.0, -133.0, -132.0, -131.0, -130.0]\n",
      "[[['1in', '1out', '2in', '2out', '3in', '3out', '4in', '4out', '5in', '5out', '6in', '6out', '7in', '7out', '8in', '8out', 'destination']], [['1in', '1out', '2in', '2out', '3in', '3out', '4in', '4out', 'destination'], ['5in', '5out', '6in', '6out', '7in', '7out', '8in', '8out', 'destination']], [['1in', '1out', '2in', '2out', '3in', '3out', '4in', '4out', 'destination'], ['8in', '8out', 'destination'], ['5in', '5out', '6in', '6out', '7in', '7out', 'destination']], [['1in', '1out', '2in', '2out', '3in', '3out', 'destination'], ['8in', '8out', 'destination'], ['5in', '5out', '6in', '6out', '7in', '7out', 'destination'], ['4in', '4out', 'destination']], [['1in', '1out', '2in', '2out', '3in', '3out', 'destination'], ['6in', '6out', 'destination'], ['8in', '8out', 'destination'], ['5in', '5out', '7in', '7out', 'destination'], ['4in', '4out', 'destination']], [['1in', '1out', '2in', '2out', '3in', '3out', 'destination'], ['7in', '7out', 'destination'], ['6in', '6out', 'destination'], ['8in', '8out', 'destination'], ['5in', '5out', 'destination'], ['4in', '4out', 'destination']], [['1in', '1out', '3in', '3out', 'destination'], ['7in', '7out', 'destination'], ['6in', '6out', 'destination'], ['8in', '8out', 'destination'], ['5in', '5out', 'destination'], ['2in', '2out', 'destination'], ['4in', '4out', 'destination']], [['1in', '1out', 'destination'], ['7in', '7out', 'destination'], ['6in', '6out', 'destination'], ['8in', '8out', 'destination'], ['5in', '5out', 'destination'], ['2in', '2out', 'destination'], ['4in', '4out', 'destination'], ['3in', '3out', 'destination']]]\n"
     ]
    }
   ],
   "source": [
    "# This example creates a graph where the players are at positions (1,1), (-1,1), (-1,-1), (1,-1) and destination (0,0)\n",
    "#G = allocation([(2,2), (1,1), (1,0), (1,-1), (3,1), (3,0), (3,-1)], (2,-2))\n",
    "G = allocation([(1,1), (0,1), (-1,1), (-1,0), (-1,-1), (0,-1), (1,-1), (1,0)], (0,0))"
   ]
  },
  {
   "cell_type": "code",
   "execution_count": 15,
   "metadata": {
    "collapsed": false
   },
   "outputs": [
    {
     "data": {
      "text/plain": [
       "[('1in', {'number': 1, 'type': 'passenger in', 'x': 2, 'y': 2}),\n",
       " ('6out', {'number': 6, 'type': 'passenger out', 'x': 3, 'y': 0}),\n",
       " ('source', {'type': 'meta'}),\n",
       " ('7in', {'number': 7, 'type': 'passenger in', 'x': 3, 'y': -1}),\n",
       " ('2out', {'number': 2, 'type': 'passenger out', 'x': 1, 'y': 1}),\n",
       " ('destination', {'type': 'destination', 'x': 2, 'y': -2}),\n",
       " ('6in', {'number': 6, 'type': 'passenger in', 'x': 3, 'y': 0}),\n",
       " ('5in', {'number': 5, 'type': 'passenger in', 'x': 3, 'y': 1}),\n",
       " ('2in', {'number': 2, 'type': 'passenger in', 'x': 1, 'y': 1}),\n",
       " ('7out', {'number': 7, 'type': 'passenger out', 'x': 3, 'y': -1}),\n",
       " ('4in', {'number': 4, 'type': 'passenger in', 'x': 1, 'y': -1}),\n",
       " ('1out', {'number': 1, 'type': 'passenger out', 'x': 2, 'y': 2}),\n",
       " ('4out', {'number': 4, 'type': 'passenger out', 'x': 1, 'y': -1}),\n",
       " ('sink', {'type': 'meta'}),\n",
       " ('3out', {'number': 3, 'type': 'passenger out', 'x': 1, 'y': 0}),\n",
       " ('3in', {'number': 3, 'type': 'passenger in', 'x': 1, 'y': 0}),\n",
       " ('5out', {'number': 5, 'type': 'passenger out', 'x': 3, 'y': 1})]"
      ]
     },
     "execution_count": 15,
     "metadata": {},
     "output_type": "execute_result"
    }
   ],
   "source": [
    "# All the nodes in the graph\n",
    "\n",
    "G.nodes(data=True)"
   ]
  },
  {
   "cell_type": "code",
   "execution_count": 16,
   "metadata": {
    "collapsed": false
   },
   "outputs": [
    {
     "data": {
      "text/plain": [
       "[('1in', '1out', {'capacity': 1, 'cost': 0}),\n",
       " ('6out', '7in', {'capacity': 1, 'cost': -28.0}),\n",
       " ('6out', 'destination', {'capacity': 1, 'cost': -27.0}),\n",
       " ('source', '1in', {'capacity': 1, 'cost': 0}),\n",
       " ('source', '7in', {'capacity': 1, 'cost': 0}),\n",
       " ('source', '6in', {'capacity': 1, 'cost': 0}),\n",
       " ('source', '5in', {'capacity': 1, 'cost': 0}),\n",
       " ('source', '2in', {'capacity': 1, 'cost': 0}),\n",
       " ('source', '4in', {'capacity': 1, 'cost': 0}),\n",
       " ('source', '3in', {'capacity': 1, 'cost': 0}),\n",
       " ('7in', '7out', {'capacity': 1, 'cost': 0}),\n",
       " ('2out', '7in', {'capacity': 1, 'cost': -27.0}),\n",
       " ('2out', 'destination', {'capacity': 1, 'cost': -26.0}),\n",
       " ('2out', '6in', {'capacity': 1, 'cost': -28.0}),\n",
       " ('2out', '5in', {'capacity': 1, 'cost': -29.0}),\n",
       " ('2out', '4in', {'capacity': 1, 'cost': -27.0}),\n",
       " ('2out', '3in', {'capacity': 1, 'cost': -28.0}),\n",
       " ('destination', 'sink', {'capacity': 2, 'cost': 0}),\n",
       " ('6in', '6out', {'capacity': 1, 'cost': 0}),\n",
       " ('5in', '5out', {'capacity': 1, 'cost': 0}),\n",
       " ('2in', '2out', {'capacity': 1, 'cost': 0}),\n",
       " ('7out', 'destination', {'capacity': 1, 'cost': -28.0}),\n",
       " ('4in', '4out', {'capacity': 1, 'cost': 0}),\n",
       " ('1out', '7in', {'capacity': 1, 'cost': -26.0}),\n",
       " ('1out', 'destination', {'capacity': 1, 'cost': -25.0}),\n",
       " ('1out', '6in', {'capacity': 1, 'cost': -27.0}),\n",
       " ('1out', '5in', {'capacity': 1, 'cost': -28.0}),\n",
       " ('1out', '2in', {'capacity': 1, 'cost': -28.0}),\n",
       " ('1out', '4in', {'capacity': 1, 'cost': -26.0}),\n",
       " ('1out', '3in', {'capacity': 1, 'cost': -27.0}),\n",
       " ('4out', '7in', {'capacity': 1, 'cost': -29.0}),\n",
       " ('4out', 'destination', {'capacity': 1, 'cost': -28.0}),\n",
       " ('4out', '6in', {'capacity': 1, 'cost': -28.0}),\n",
       " ('4out', '5in', {'capacity': 1, 'cost': -27.0}),\n",
       " ('3out', '7in', {'capacity': 1, 'cost': -28.0}),\n",
       " ('3out', '4in', {'capacity': 1, 'cost': -28.0}),\n",
       " ('3out', 'destination', {'capacity': 1, 'cost': -27.0}),\n",
       " ('3out', '6in', {'capacity': 1, 'cost': -29.0}),\n",
       " ('3out', '5in', {'capacity': 1, 'cost': -28.0}),\n",
       " ('3in', '3out', {'capacity': 1, 'cost': 0}),\n",
       " ('5out', '7in', {'capacity': 1, 'cost': -27.0}),\n",
       " ('5out', 'destination', {'capacity': 1, 'cost': -26.0}),\n",
       " ('5out', '6in', {'capacity': 1, 'cost': -28.0})]"
      ]
     },
     "execution_count": 16,
     "metadata": {},
     "output_type": "execute_result"
    }
   ],
   "source": [
    "# All the edges in the graph\n",
    "G.edges(data=True)"
   ]
  },
  {
   "cell_type": "code",
   "execution_count": 17,
   "metadata": {
    "collapsed": false
   },
   "outputs": [
    {
     "data": {
      "image/png": "[encoded data removed]",
      "text/plain": [
       "<matplotlib.figure.Figure at 0x1093e4f10>"
      ]
     },
     "metadata": {},
     "output_type": "display_data"
    }
   ],
   "source": [
    "# Drawing of the graph (not very well done)\n",
    "nx.draw_graphviz(G, with_labels=True)"
   ]
  },
  {
   "cell_type": "code",
   "execution_count": 18,
   "metadata": {
    "collapsed": false
   },
   "outputs": [
    {
     "data": {
      "text/plain": [
       "{'1in': {'1out': 1},\n",
       " '1out': {'2in': 1,\n",
       "  '3in': 0,\n",
       "  '4in': 0,\n",
       "  '5in': 0,\n",
       "  '6in': 0,\n",
       "  '7in': 0,\n",
       "  'destination': 0},\n",
       " '2in': {'2out': 1},\n",
       " '2out': {'3in': 0, '4in': 0, '5in': 1, '6in': 0, '7in': 0, 'destination': 0},\n",
       " '3in': {'3out': 1},\n",
       " '3out': {'4in': 1, '5in': 0, '6in': 0, '7in': 0, 'destination': 0},\n",
       " '4in': {'4out': 1},\n",
       " '4out': {'5in': 0, '6in': 0, '7in': 0, 'destination': 1},\n",
       " '5in': {'5out': 1},\n",
       " '5out': {'6in': 1, '7in': 0, 'destination': 0},\n",
       " '6in': {'6out': 1},\n",
       " '6out': {'7in': 1, 'destination': 0},\n",
       " '7in': {'7out': 1},\n",
       " '7out': {'destination': 1},\n",
       " 'destination': {'sink': 2},\n",
       " 'sink': {},\n",
       " 'source': {'1in': 1,\n",
       "  '2in': 0,\n",
       "  '3in': 1,\n",
       "  '4in': 0,\n",
       "  '5in': 0,\n",
       "  '6in': 0,\n",
       "  '7in': 0}}"
      ]
     },
     "execution_count": 18,
     "metadata": {},
     "output_type": "execute_result"
    }
   ],
   "source": [
    "# The path that should be taken\n",
    "# Starting from the source, a 1 in the node in the dictionary means send 1 cab there\n",
    "nx.max_flow_min_cost(G,'source','sink',weight='cost')"
   ]
  },
  {
   "cell_type": "code",
   "execution_count": 38,
   "metadata": {
    "collapsed": false
   },
   "outputs": [
    {
     "data": {
      "text/plain": [
       "(-134.0,\n",
       " [['1in', '1out', '2in', '2out', '3in', '3out', '4in', '4out', 'destination'],\n",
       "  ['5in', '5out', '6in', '6out', '7in', '7out', '8in', '8out', 'destination']])"
      ]
     },
     "execution_count": 38,
     "metadata": {},
     "output_type": "execute_result"
    }
   ],
   "source": [
    "# The cost of that path\n",
    "cost_of_min_flow(G)"
   ]
  },
  {
   "cell_type": "code",
   "execution_count": null,
   "metadata": {
    "collapsed": true
   },
   "outputs": [],
   "source": []
  }
 ],
 "metadata": {
  "kernelspec": {
   "display_name": "Python 2",
   "language": "python",
   "name": "python2"
  },
  "language_info": {
   "codemirror_mode": {
    "name": "ipython",
    "version": 2
   },
   "file_extension": ".py",
   "mimetype": "text/x-python",
   "name": "python",
   "nbconvert_exporter": "python",
   "pygments_lexer": "ipython2",
   "version": "2.7.11"
  }
 },
 "nbformat": 4,
 "nbformat_minor": 0
}
