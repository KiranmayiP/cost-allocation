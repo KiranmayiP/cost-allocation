{
 "cells": [
  {
   "cell_type": "code",
   "execution_count": 1,
   "metadata": {
    "collapsed": true
   },
   "outputs": [],
   "source": [
    "import networkx as nx\n",
    "from datetime import datetime\n",
    "import matplotlib.pyplot as plt\n",
    "import numpy as np\n",
    "from math import sqrt\n",
    "\n",
    "%matplotlib inline"
   ]
  },
  {
   "cell_type": "code",
   "execution_count": 2,
   "metadata": {
    "collapsed": false
   },
   "outputs": [],
   "source": [
    "def distance(node1,node2):\n",
    "    '''Simple distance formula between two points'''\n",
    "    x1 = node1[0]\n",
    "    x2 = node2[0]\n",
    "    y1 = node1[1]\n",
    "    y2 = node2[1]\n",
    "    return sqrt((x2-x2)**2 + (y2-y1)**2)\n",
    "\n",
    "def max_distance(points):\n",
    "    current = 0\n",
    "    for node1 in points:\n",
    "        for node2 in points:\n",
    "            d = distance(node1,node2)\n",
    "            if d>current: \n",
    "                current=d\n",
    "    return current\n",
    "\n",
    "def cost_of_min_flow(G):\n",
    "    flow_path = nx.max_flow_min_cost(G,'source','sink',weight='cost')\n",
    "    beginning = flow_path['source']\n",
    "    total_cost = 0\n",
    "    #import pdb;pdb.set_trace()\n",
    "    start_paths = [n for n in beginning.items() if n[1]==1]\n",
    "    for start_node, go in start_paths:        \n",
    "        curr_node=start_node\n",
    "        path_cost = 0\n",
    "        while curr_node!='destination':\n",
    "            path = [n for n in flow_path[curr_node].items() if n[1]==1]\n",
    "            node, go = path[0]\n",
    "            path_cost += G.edge[curr_node][node]['cost']\n",
    "            curr_node = node\n",
    "        total_cost += path_cost\n",
    "    return total_cost\n",
    "\n",
    "\n",
    "def allocation(passengers, destination, complete=False):\n",
    "    # passengers is a list of tuples - ID, x, y\n",
    "    # destination is a tuple\n",
    "    G=nx.DiGraph()\n",
    "    # Step 1\n",
    "    G.add_node(\"source\", type=\"meta\")\n",
    "    G.add_node(\"sink\", type=\"meta\")\n",
    "    i = 1\n",
    "    # Step 2\n",
    "    for passenger in passengers:\n",
    "        G.add_node(\"{}in\".format(i), number=i, x=passenger[0], y=passenger[1], type=\"passenger in\")\n",
    "        G.add_node(\"{}out\".format(i),number=i, x=passenger[0], y=passenger[1], type=\"passenger out\")\n",
    "        G.add_edge(\"{}in\".format(i), \"{}out\".format(i), cost=0, capacity=1)\n",
    "        i+=1\n",
    "    G.add_node(\"destination\", x=destination[0], y=destination[1], type=\"destination\")\n",
    "    \n",
    "    # Step 3\n",
    "    for node in G.nodes(data=True):\n",
    "        if node[1]['type']==\"passenger in\":\n",
    "            G.add_edge(\"source\", node[0], cost=0, capacity=1)\n",
    "        \n",
    "    # Step 4\n",
    "    # We create n edges, one each of cost SuD and capacity 1 from each \n",
    "    # of the exit vertices uout, u ∈ N, to the dropoff vertex n + 1\n",
    "    for node in G.nodes(data=True):\n",
    "        if node[1]['type']==\"passenger out\":\n",
    "            cost = distance(destination, (node[1]['x'],node[1]['y']))\n",
    "            name = node[0]\n",
    "            G.add_edge(name,\"destination\", cost=cost, capacity=1)\n",
    "    \n",
    "    # Step 5\n",
    "    # Calculating L\n",
    "    L = len(passengers)*max_distance(passengers + [destination]) + 1\n",
    "    for u in range(1,len(passengers)+1):\n",
    "        if complete: \n",
    "            start = 1\n",
    "        else: \n",
    "            start = u+1\n",
    "        for v in range(start, len(passengers)+1):\n",
    "            if u!=v:\n",
    "                G.add_edge(\"{}out\".format(u), \"{}in\".format(v), cost=distance(passengers[u-1], passengers[v-1])-L, capacity=1)\n",
    "    \n",
    "    \n",
    "    \n",
    "    # Step 6\n",
    "    \n",
    "    possible_graphs = [G.copy() for i in range(len(passengers))]\n",
    "    for i, pg in enumerate(possible_graphs):\n",
    "        pg.add_edge(\"destination\", \"sink\", cost=0, capacity=i+1)\n",
    "    \n",
    "    min_cost = float('inf')\n",
    "    min_flow_graph = None\n",
    "    for pg in possible_graphs:\n",
    "        c = cost_of_min_flow(pg)\n",
    "        if c<min_cost:\n",
    "            min_cost=c\n",
    "            min_graph=pg\n",
    "    return min_graph\n",
    "     "
   ]
  },
  {
   "cell_type": "code",
   "execution_count": 3,
   "metadata": {
    "collapsed": false
   },
   "outputs": [],
   "source": [
    "G = allocation([(1,1), (-1,1), (-1,-1), (1,-1)], (0,0))"
   ]
  },
  {
   "cell_type": "code",
   "execution_count": 4,
   "metadata": {
    "collapsed": false
   },
   "outputs": [
    {
     "data": {
      "text/plain": [
       "[('1in', '1out', {'capacity': 1, 'cost': 0}),\n",
       " ('2out', '4in', {'capacity': 1, 'cost': -7.0}),\n",
       " ('2out', 'destination', {'capacity': 1, 'cost': 1.0}),\n",
       " ('2out', '3in', {'capacity': 1, 'cost': -7.0}),\n",
       " ('destination', 'sink', {'capacity': 1, 'cost': 0}),\n",
       " ('2in', '2out', {'capacity': 1, 'cost': 0}),\n",
       " ('source', '2in', {'capacity': 1, 'cost': 0}),\n",
       " ('source', '4in', {'capacity': 1, 'cost': 0}),\n",
       " ('source', '1in', {'capacity': 1, 'cost': 0}),\n",
       " ('source', '3in', {'capacity': 1, 'cost': 0}),\n",
       " ('4in', '4out', {'capacity': 1, 'cost': 0}),\n",
       " ('1out', '2in', {'capacity': 1, 'cost': -9.0}),\n",
       " ('1out', '4in', {'capacity': 1, 'cost': -7.0}),\n",
       " ('1out', 'destination', {'capacity': 1, 'cost': 1.0}),\n",
       " ('1out', '3in', {'capacity': 1, 'cost': -7.0}),\n",
       " ('4out', 'destination', {'capacity': 1, 'cost': 1.0}),\n",
       " ('3in', '3out', {'capacity': 1, 'cost': 0}),\n",
       " ('3out', '4in', {'capacity': 1, 'cost': -9.0}),\n",
       " ('3out', 'destination', {'capacity': 1, 'cost': 1.0})]"
      ]
     },
     "execution_count": 4,
     "metadata": {},
     "output_type": "execute_result"
    }
   ],
   "source": [
    "G.edges(data=True)"
   ]
  },
  {
   "cell_type": "code",
   "execution_count": 5,
   "metadata": {
    "collapsed": false
   },
   "outputs": [
    {
     "name": "stderr",
     "output_type": "stream",
     "text": [
      "/usr/local/lib/python2.7/site-packages/matplotlib/collections.py:631: FutureWarning: elementwise comparison failed; returning scalar instead, but in the future will perform elementwise comparison\n",
      "  if self._edgecolors_original != str('face'):\n",
      "/usr/local/lib/python2.7/site-packages/matplotlib/collections.py:571: FutureWarning: elementwise comparison failed; returning scalar instead, but in the future will perform elementwise comparison\n",
      "  if self._edgecolors == str('face'):\n"
     ]
    },
    {
     "data": {
      "image/png": "[encoded data removed]",
      "text/plain": [
       "<matplotlib.figure.Figure at 0x10ad546d0>"
      ]
     },
     "metadata": {},
     "output_type": "display_data"
    }
   ],
   "source": [
    "nx.draw_graphviz(G, with_labels=True)"
   ]
  },
  {
   "cell_type": "code",
   "execution_count": 6,
   "metadata": {
    "collapsed": false,
    "scrolled": false
   },
   "outputs": [
    {
     "data": {
      "text/plain": [
       "{'1in': {'1out': 1},\n",
       " '1out': {'2in': 1, '3in': 0, '4in': 0, 'destination': 0},\n",
       " '2in': {'2out': 1},\n",
       " '2out': {'3in': 1, '4in': 0, 'destination': 0},\n",
       " '3in': {'3out': 1},\n",
       " '3out': {'4in': 1, 'destination': 0},\n",
       " '4in': {'4out': 1},\n",
       " '4out': {'destination': 1},\n",
       " 'destination': {'sink': 1},\n",
       " 'sink': {},\n",
       " 'source': {'1in': 1, '2in': 0, '3in': 0, '4in': 0}}"
      ]
     },
     "execution_count": 6,
     "metadata": {},
     "output_type": "execute_result"
    }
   ],
   "source": [
    "# The path that should be taken\n",
    "nx.max_flow_min_cost(G,'source','sink',weight='cost')"
   ]
  },
  {
   "cell_type": "code",
   "execution_count": 7,
   "metadata": {
    "collapsed": false
   },
   "outputs": [
    {
     "data": {
      "text/plain": [
       "-24.0"
      ]
     },
     "execution_count": 7,
     "metadata": {},
     "output_type": "execute_result"
    }
   ],
   "source": [
    "cost_of_min_flow(G)"
   ]
  }
 ],
 "metadata": {
  "kernelspec": {
   "display_name": "Python 2",
   "language": "python",
   "name": "python2"
  },
  "language_info": {
   "codemirror_mode": {
    "name": "ipython",
    "version": 2
   },
   "file_extension": ".py",
   "mimetype": "text/x-python",
   "name": "python",
   "nbconvert_exporter": "python",
   "pygments_lexer": "ipython2",
   "version": "2.7.11"
  }
 },
 "nbformat": 4,
 "nbformat_minor": 0
}
