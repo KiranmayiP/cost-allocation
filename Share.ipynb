{
 "cells": [
  {
   "cell_type": "code",
   "execution_count": 57,
   "metadata": {
    "collapsed": true
   },
   "outputs": [],
   "source": [
    "import networkx as nx\n",
    "from datetime import datetime\n",
    "import matplotlib.pyplot as plt\n",
    "import numpy as np\n",
    "from math import sqrt\n",
    "\n",
    "%matplotlib inline"
   ]
  },
  {
   "cell_type": "code",
   "execution_count": 75,
   "metadata": {
    "collapsed": false
   },
   "outputs": [],
   "source": [
    "def distance(node1,node2):\n",
    "    x1 = node1[0]\n",
    "    x2 = node2[0]\n",
    "    y1 = node1[1]\n",
    "    y2 = node2[1]\n",
    "    return sqrt((x2-x2)**2 + (y2-y1)**2)\n",
    "\n",
    "def max_distance(points):\n",
    "    current = 0\n",
    "    for node1 in points:\n",
    "        for node2 in points:\n",
    "            d = distance(node1,node2)\n",
    "            if d>current: \n",
    "                current=d\n",
    "    return current\n",
    "\n",
    "\n",
    "def allocation(passengers, destination, m_prime):\n",
    "    # passengers is a list of tuples - ID, x, y\n",
    "    # destination is a tuple\n",
    "    G=nx.DiGraph()\n",
    "    # Step 1\n",
    "    G.add_node(\"source\", type=\"meta\")\n",
    "    G.add_node(\"sink\", type=\"meta\")\n",
    "    i = 1\n",
    "    # Step 2\n",
    "    for passenger in passengers:\n",
    "        G.add_node(\"{}in\".format(i), number=i, x=passenger[0], y=passenger[1], type=\"passenger in\")\n",
    "        G.add_node(\"{}out\".format(i),number=i, x=passenger[0], y=passenger[1], type=\"passenger out\")\n",
    "        G.add_edge(\"{}in\".format(i), \"{}out\".format(i), cost=0, capacity=1)\n",
    "        i+=1\n",
    "    G.add_node(\"destination\", x=destination[0], y=destination[1], type=\"destination\")\n",
    "    \n",
    "    # Step 3\n",
    "    for node in G.nodes(data=True):\n",
    "        if node[1]['type']==\"passenger in\":\n",
    "            G.add_edge(\"source\", node[0], cost=0, capacity=1)\n",
    "        \n",
    "    # Step 4\n",
    "    # We create n edges, one each of cost SuD and capacity 1 from each \n",
    "    # of the exit vertices uout, u ∈ N, to the dropoff vertex n + 1\n",
    "    for node in G.nodes(data=True):\n",
    "        if node[1]['type']==\"passenger out\":\n",
    "            cost = distance(destination, (node[1]['x'],node[1]['y']))\n",
    "            G.add_edge(node[0],\"destination\", cost=cost, capacity=1)\n",
    "    \n",
    "    # Step 5\n",
    "    # Calculating L\n",
    "    L = 2*max_distance(passengers + [destination]) + 1\n",
    "    for u in range(1,len(passengers)+1):\n",
    "        for v in range(u+1, len(passengers)+1):\n",
    "            G.add_edge(\"{}out\".format(u), \"{}in\".format(v), cost=distance(passengers[u-1], passengers[v-1]), capacity=1)\n",
    "    \n",
    "    \n",
    "    \n",
    "    # Step 6\n",
    "    G.add_edge(\"destination\", \"sink\", cost=0, capacity=m_prime)\n",
    "    return G\n"
   ]
  },
  {
   "cell_type": "code",
   "execution_count": null,
   "metadata": {
    "collapsed": false
   },
   "outputs": [],
   "source": []
  },
  {
   "cell_type": "code",
   "execution_count": 76,
   "metadata": {
    "collapsed": false
   },
   "outputs": [
    {
     "data": {
      "text/plain": [
       "[('1in', {'number': 1, 'type': 'passenger in', 'x': 0, 'y': 0}),\n",
       " ('2out', {'number': 2, 'type': 'passenger out', 'x': 1, 'y': 1}),\n",
       " ('destination', {'type': 'destination', 'x': 2, 'y': 2}),\n",
       " ('2in', {'number': 2, 'type': 'passenger in', 'x': 1, 'y': 1}),\n",
       " ('source', {'type': 'meta'}),\n",
       " ('1out', {'number': 1, 'type': 'passenger out', 'x': 0, 'y': 0}),\n",
       " ('sink', {'type': 'meta'})]"
      ]
     },
     "execution_count": 76,
     "metadata": {},
     "output_type": "execute_result"
    }
   ],
   "source": [
    "G = allocation([(0,0), (1,1)], (2,2), 1)\n",
    "G.nodes(data=True)"
   ]
  },
  {
   "cell_type": "code",
   "execution_count": 77,
   "metadata": {
    "collapsed": false
   },
   "outputs": [
    {
     "data": {
      "text/plain": [
       "[('1in', '1out', {'capacity': 1, 'cost': 0}),\n",
       " ('2out', 'destination', {'capacity': 1, 'cost': 1.0}),\n",
       " ('destination', 'sink', {'capacity': 1, 'cost': 0}),\n",
       " ('2in', '2out', {'capacity': 1, 'cost': 0}),\n",
       " ('source', '2in', {'capacity': 1, 'cost': 0}),\n",
       " ('source', '1in', {'capacity': 1, 'cost': 0}),\n",
       " ('1out', '2in', {'capacity': 1, 'cost': 1.0}),\n",
       " ('1out', 'destination', {'capacity': 1, 'cost': 2.0})]"
      ]
     },
     "execution_count": 77,
     "metadata": {},
     "output_type": "execute_result"
    }
   ],
   "source": [
    "G.edges(data=True)"
   ]
  },
  {
   "cell_type": "code",
   "execution_count": 78,
   "metadata": {
    "collapsed": false
   },
   "outputs": [
    {
     "data": {
      "image/png": "[encoded data removed]",
      "text/plain": [
       "<matplotlib.figure.Figure at 0x111953190>"
      ]
     },
     "metadata": {},
     "output_type": "display_data"
    }
   ],
   "source": [
    "nx.draw(G, with_labels=True)"
   ]
  }
 ],
 "metadata": {
  "kernelspec": {
   "display_name": "Python 2",
   "language": "python",
   "name": "python2"
  },
  "language_info": {
   "codemirror_mode": {
    "name": "ipython",
    "version": 2
   },
   "file_extension": ".py",
   "mimetype": "text/x-python",
   "name": "python",
   "nbconvert_exporter": "python",
   "pygments_lexer": "ipython2",
   "version": "2.7.11"
  }
 },
 "nbformat": 4,
 "nbformat_minor": 0
}
